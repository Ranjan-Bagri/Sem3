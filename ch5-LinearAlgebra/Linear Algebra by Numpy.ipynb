{
 "cells": [
  {
   "cell_type": "code",
   "execution_count": 1,
   "metadata": {},
   "outputs": [],
   "source": [
    "import numpy as np"
   ]
  },
  {
   "cell_type": "markdown",
   "metadata": {},
   "source": [
    "**Numpy ndarray declaration**"
   ]
  },
  {
   "cell_type": "code",
   "execution_count": 2,
   "metadata": {},
   "outputs": [],
   "source": [
    "# matrices\n",
    "a=np.array([[-2,1],[0,3]]) \n",
    "b=np.array([[-3,2],[0,1]])\n",
    "# vectors\n",
    "u=np.array([2,-3])\n",
    "v=np.array([-2,1])\n",
    "r=np.array([2,-3,-1])\n",
    "s=np.array([-1,2,3])"
   ]
  },
  {
   "cell_type": "markdown",
   "metadata": {},
   "source": [
    "**Vector Operations**"
   ]
  },
  {
   "cell_type": "code",
   "execution_count": 3,
   "metadata": {},
   "outputs": [
    {
     "data": {
      "text/plain": [
       "-7"
      ]
     },
     "execution_count": 3,
     "metadata": {},
     "output_type": "execute_result"
    }
   ],
   "source": [
    "u.dot(v)"
   ]
  },
  {
   "cell_type": "code",
   "execution_count": 4,
   "metadata": {},
   "outputs": [
    {
     "data": {
      "text/plain": [
       "-7"
      ]
     },
     "execution_count": 4,
     "metadata": {},
     "output_type": "execute_result"
    }
   ],
   "source": [
    "np.dot(u,v)"
   ]
  },
  {
   "cell_type": "code",
   "execution_count": 5,
   "metadata": {},
   "outputs": [
    {
     "data": {
      "text/plain": [
       "-7"
      ]
     },
     "execution_count": 5,
     "metadata": {},
     "output_type": "execute_result"
    }
   ],
   "source": [
    "np.inner(u,v)"
   ]
  },
  {
   "cell_type": "code",
   "execution_count": 6,
   "metadata": {},
   "outputs": [
    {
     "data": {
      "text/plain": [
       "-7"
      ]
     },
     "execution_count": 6,
     "metadata": {},
     "output_type": "execute_result"
    }
   ],
   "source": [
    "np.vdot(u,v)"
   ]
  },
  {
   "cell_type": "code",
   "execution_count": 7,
   "metadata": {},
   "outputs": [
    {
     "data": {
      "text/plain": [
       "13"
      ]
     },
     "execution_count": 7,
     "metadata": {},
     "output_type": "execute_result"
    }
   ],
   "source": [
    "u.dot(u)"
   ]
  },
  {
   "cell_type": "code",
   "execution_count": 8,
   "metadata": {},
   "outputs": [
    {
     "data": {
      "text/plain": [
       "array([-7, -9])"
      ]
     },
     "execution_count": 8,
     "metadata": {},
     "output_type": "execute_result"
    }
   ],
   "source": [
    "a.dot(u) # matrix and vector product, numpy attribute"
   ]
  },
  {
   "cell_type": "code",
   "execution_count": 9,
   "metadata": {},
   "outputs": [
    {
     "data": {
      "text/plain": [
       "array([-7, -5,  1])"
      ]
     },
     "execution_count": 9,
     "metadata": {},
     "output_type": "execute_result"
    }
   ],
   "source": [
    "np.cross(r,s) # vector cross product"
   ]
  },
  {
   "cell_type": "markdown",
   "metadata": {},
   "source": [
    "**Matrix Operation**"
   ]
  },
  {
   "cell_type": "code",
   "execution_count": 10,
   "metadata": {},
   "outputs": [
    {
     "data": {
      "text/plain": [
       "array([-7, -9])"
      ]
     },
     "execution_count": 10,
     "metadata": {},
     "output_type": "execute_result"
    }
   ],
   "source": [
    "np.dot(a,u)"
   ]
  },
  {
   "cell_type": "code",
   "execution_count": 11,
   "metadata": {},
   "outputs": [
    {
     "data": {
      "text/plain": [
       "array([10, -2])"
      ]
     },
     "execution_count": 11,
     "metadata": {},
     "output_type": "execute_result"
    }
   ],
   "source": [
    "u+b.dot(v)"
   ]
  },
  {
   "cell_type": "code",
   "execution_count": 12,
   "metadata": {},
   "outputs": [
    {
     "data": {
      "text/plain": [
       "array([[ 6, -3],\n",
       "       [ 0,  3]])"
      ]
     },
     "execution_count": 12,
     "metadata": {},
     "output_type": "execute_result"
    }
   ],
   "source": [
    "a.dot(b)"
   ]
  },
  {
   "cell_type": "code",
   "execution_count": 13,
   "metadata": {},
   "outputs": [
    {
     "data": {
      "text/plain": [
       "array([[6, 2],\n",
       "       [0, 3]])"
      ]
     },
     "execution_count": 13,
     "metadata": {},
     "output_type": "execute_result"
    }
   ],
   "source": [
    "a*b"
   ]
  },
  {
   "cell_type": "code",
   "execution_count": 14,
   "metadata": {},
   "outputs": [
    {
     "data": {
      "text/plain": [
       "array([[-8,  1],\n",
       "       [ 0, 27]], dtype=int32)"
      ]
     },
     "execution_count": 14,
     "metadata": {},
     "output_type": "execute_result"
    }
   ],
   "source": [
    "a**3"
   ]
  },
  {
   "cell_type": "markdown",
   "metadata": {},
   "source": [
    "**Declaration of numpy matrix**"
   ]
  },
  {
   "cell_type": "code",
   "execution_count": 15,
   "metadata": {},
   "outputs": [],
   "source": [
    "a=np.matrix('[6,2,3]') # row matrix\n",
    "b=np.matrix('[4;5;9]') # column matrix\n",
    "x=np.matrix([[2,-1],[3,-2]])\n",
    "y=np.matrix([[-2,1],[4,-3]])"
   ]
  },
  {
   "cell_type": "markdown",
   "metadata": {},
   "source": [
    "**Vector Operations with np.matrix()**"
   ]
  },
  {
   "cell_type": "code",
   "execution_count": 16,
   "metadata": {},
   "outputs": [
    {
     "data": {
      "text/plain": [
       "matrix([[61]])"
      ]
     },
     "execution_count": 16,
     "metadata": {},
     "output_type": "execute_result"
    }
   ],
   "source": [
    "a*b"
   ]
  },
  {
   "cell_type": "code",
   "execution_count": 17,
   "metadata": {},
   "outputs": [
    {
     "data": {
      "text/plain": [
       "matrix([[61]])"
      ]
     },
     "execution_count": 17,
     "metadata": {},
     "output_type": "execute_result"
    }
   ],
   "source": [
    "a.dot(b)"
   ]
  },
  {
   "cell_type": "code",
   "execution_count": 18,
   "metadata": {},
   "outputs": [
    {
     "data": {
      "text/plain": [
       "matrix([[61]])"
      ]
     },
     "execution_count": 18,
     "metadata": {},
     "output_type": "execute_result"
    }
   ],
   "source": [
    "np.dot(a,b)"
   ]
  },
  {
   "cell_type": "code",
   "execution_count": 19,
   "metadata": {},
   "outputs": [
    {
     "data": {
      "text/plain": [
       "matrix([[6],\n",
       "        [2],\n",
       "        [3]])"
      ]
     },
     "execution_count": 19,
     "metadata": {},
     "output_type": "execute_result"
    }
   ],
   "source": [
    "a.transpose()"
   ]
  },
  {
   "cell_type": "code",
   "execution_count": 20,
   "metadata": {},
   "outputs": [
    {
     "data": {
      "text/plain": [
       "matrix([[6],\n",
       "        [2],\n",
       "        [3]])"
      ]
     },
     "execution_count": 20,
     "metadata": {},
     "output_type": "execute_result"
    }
   ],
   "source": [
    "np.transpose(a)"
   ]
  },
  {
   "cell_type": "code",
   "execution_count": 21,
   "metadata": {},
   "outputs": [
    {
     "data": {
      "text/plain": [
       "matrix([[6, 2, 3]])"
      ]
     },
     "execution_count": 21,
     "metadata": {},
     "output_type": "execute_result"
    }
   ],
   "source": [
    "a"
   ]
  },
  {
   "cell_type": "markdown",
   "metadata": {},
   "source": [
    "**Matrix operations with np.matrix()**"
   ]
  },
  {
   "cell_type": "code",
   "execution_count": 22,
   "metadata": {},
   "outputs": [
    {
     "data": {
      "text/plain": [
       "matrix([[24,  8, 12],\n",
       "        [30, 10, 15],\n",
       "        [54, 18, 27]])"
      ]
     },
     "execution_count": 22,
     "metadata": {},
     "output_type": "execute_result"
    }
   ],
   "source": [
    "b*a"
   ]
  },
  {
   "cell_type": "code",
   "execution_count": 23,
   "metadata": {},
   "outputs": [
    {
     "data": {
      "text/plain": [
       "matrix([[24,  8, 12],\n",
       "        [30, 10, 15],\n",
       "        [54, 18, 27]])"
      ]
     },
     "execution_count": 23,
     "metadata": {},
     "output_type": "execute_result"
    }
   ],
   "source": [
    "np.dot(b,a)"
   ]
  },
  {
   "cell_type": "code",
   "execution_count": 24,
   "metadata": {},
   "outputs": [
    {
     "data": {
      "text/plain": [
       "matrix([[24,  8, 12],\n",
       "        [30, 10, 15],\n",
       "        [54, 18, 27]])"
      ]
     },
     "execution_count": 24,
     "metadata": {},
     "output_type": "execute_result"
    }
   ],
   "source": [
    "b.dot(a)"
   ]
  },
  {
   "cell_type": "code",
   "execution_count": 25,
   "metadata": {},
   "outputs": [
    {
     "data": {
      "text/plain": [
       "matrix([[ -8,   5],\n",
       "        [-14,   9]])"
      ]
     },
     "execution_count": 25,
     "metadata": {},
     "output_type": "execute_result"
    }
   ],
   "source": [
    "x*y"
   ]
  },
  {
   "cell_type": "code",
   "execution_count": 26,
   "metadata": {},
   "outputs": [
    {
     "data": {
      "text/plain": [
       "matrix([[1, 0],\n",
       "        [0, 1]])"
      ]
     },
     "execution_count": 26,
     "metadata": {},
     "output_type": "execute_result"
    }
   ],
   "source": [
    "x**2"
   ]
  },
  {
   "cell_type": "code",
   "execution_count": 27,
   "metadata": {},
   "outputs": [
    {
     "data": {
      "text/plain": [
       "matrix([[-1.5, -0.5],\n",
       "        [-2. , -1. ]])"
      ]
     },
     "execution_count": 27,
     "metadata": {},
     "output_type": "execute_result"
    }
   ],
   "source": [
    "y**(-1)"
   ]
  },
  {
   "cell_type": "code",
   "execution_count": 28,
   "metadata": {},
   "outputs": [
    {
     "data": {
      "text/plain": [
       "matrix([[1., 0.],\n",
       "        [0., 1.]])"
      ]
     },
     "execution_count": 28,
     "metadata": {},
     "output_type": "execute_result"
    }
   ],
   "source": [
    "y*y**(-1)"
   ]
  },
  {
   "cell_type": "code",
   "execution_count": 29,
   "metadata": {},
   "outputs": [
    {
     "data": {
      "text/plain": [
       "matrix([[ -7.375,  -2.875],\n",
       "        [-11.5  ,  -4.5  ]])"
      ]
     },
     "execution_count": 29,
     "metadata": {},
     "output_type": "execute_result"
    }
   ],
   "source": [
    "y**(-3)"
   ]
  },
  {
   "cell_type": "markdown",
   "metadata": {},
   "source": [
    "**Matrix operations using numpy.linalg**"
   ]
  },
  {
   "cell_type": "code",
   "execution_count": 30,
   "metadata": {},
   "outputs": [],
   "source": [
    "import numpy.linalg as la"
   ]
  },
  {
   "cell_type": "code",
   "execution_count": 31,
   "metadata": {},
   "outputs": [
    {
     "data": {
      "text/plain": [
       "-6.0"
      ]
     },
     "execution_count": 31,
     "metadata": {},
     "output_type": "execute_result"
    }
   ],
   "source": [
    "a=np.array([[-2,1],[0,3]])\n",
    "la.det(a)"
   ]
  },
  {
   "cell_type": "code",
   "execution_count": 32,
   "metadata": {},
   "outputs": [
    {
     "data": {
      "text/plain": [
       "3.7416573867739413"
      ]
     },
     "execution_count": 32,
     "metadata": {},
     "output_type": "execute_result"
    }
   ],
   "source": [
    "la.norm(a)"
   ]
  },
  {
   "cell_type": "code",
   "execution_count": 33,
   "metadata": {},
   "outputs": [
    {
     "data": {
      "text/plain": [
       "2"
      ]
     },
     "execution_count": 33,
     "metadata": {},
     "output_type": "execute_result"
    }
   ],
   "source": [
    "la.matrix_rank(a)"
   ]
  },
  {
   "cell_type": "code",
   "execution_count": 34,
   "metadata": {},
   "outputs": [],
   "source": [
    "lmb,x=la.eig(a)"
   ]
  },
  {
   "cell_type": "code",
   "execution_count": 35,
   "metadata": {},
   "outputs": [
    {
     "data": {
      "text/plain": [
       "array([-2.,  3.])"
      ]
     },
     "execution_count": 35,
     "metadata": {},
     "output_type": "execute_result"
    }
   ],
   "source": [
    "lmb # eigen values"
   ]
  },
  {
   "cell_type": "code",
   "execution_count": 36,
   "metadata": {},
   "outputs": [
    {
     "data": {
      "text/plain": [
       "array([[1.        , 0.19611614],\n",
       "       [0.        , 0.98058068]])"
      ]
     },
     "execution_count": 36,
     "metadata": {},
     "output_type": "execute_result"
    }
   ],
   "source": [
    "x # eigen vectors"
   ]
  },
  {
   "cell_type": "markdown",
   "metadata": {},
   "source": [
    "**Examples**"
   ]
  },
  {
   "cell_type": "code",
   "execution_count": 37,
   "metadata": {},
   "outputs": [
    {
     "name": "stdout",
     "output_type": "stream",
     "text": [
      "-1.000e+00,-1.000e+00\n",
      "-1.837e-16,-1.837e-16\n",
      "1.000e+00,1.000e+00\n",
      "-1.837e-16,-1.837e-16\n",
      "-1.000e+00,-1.000e+00\n"
     ]
    }
   ],
   "source": [
    "# numpy determinant exmaple 01\n",
    "th=[-np.pi,-np.pi/2,0,np.pi/2,np.pi]\n",
    "for i in th:\n",
    "    a=np.array([[np.cos(i),1,0],[1,2*np.cos(i),1],[0,1,2*np.cos(i)]])\n",
    "    lhs=la.det(a)\n",
    "    rhs=np.cos(3*i)\n",
    "    print(\"%.3e,%.3e\"%(lhs,rhs))"
   ]
  },
  {
   "cell_type": "markdown",
   "metadata": {},
   "source": [
    "$u=3i+6j+9k , v=-2i+3j+k$"
   ]
  },
  {
   "cell_type": "code",
   "execution_count": 38,
   "metadata": {},
   "outputs": [
    {
     "name": "stdout",
     "output_type": "stream",
     "text": [
      "Angle in degree = 60.0000\n"
     ]
    }
   ],
   "source": [
    "# Angle between two vectors\n",
    "u=np.array([3,6,9])\n",
    "v=np.array([-2,3,1])\n",
    "uv=np.vdot(u,v)\n",
    "u_mag,v_mag=(np.vdot(u,u))**0.5,(np.vdot(v,v))**0.5\n",
    "th=np.arccos(uv/(u_mag*v_mag))\n",
    "print(\"Angle in degree = %.4f\"% np.rad2deg(th))"
   ]
  },
  {
   "cell_type": "markdown",
   "metadata": {},
   "source": [
    "$a=2i+j-k,b=i+3j-2k$"
   ]
  },
  {
   "cell_type": "code",
   "execution_count": 39,
   "metadata": {
    "scrolled": false
   },
   "outputs": [
    {
     "name": "stdout",
     "output_type": "stream",
     "text": [
      "Unit perpendicular vector =0.169i+0.507j\n",
      "0.507j+0.845k\n"
     ]
    }
   ],
   "source": [
    "# Unit vector perpendicular to both of two given vectors\n",
    "a=np.array([2,1,-1])\n",
    "b=np.array([1,3,-2])\n",
    "axb=np.cross(a,b)\n",
    "axb_mag=(np.vdot(axb,axb))**0.5\n",
    "u_vec=axb*(1/axb_mag) # multiply each element by (1/axb_mag)\n",
    "u_ax=['i','j','k'] # array for the names of unit vectors along axes\n",
    "print(\"Unit perpendicular vector =\",end=\"\")\n",
    "for i in range(len(u_vec)-1):\n",
    "    print(\"%.3f%s\"%(u_vec[i],u_ax[i]),end=\"+\")\n",
    "    print(\"%.3f%s\"%(u_vec[i+1],u_ax[i+1]))"
   ]
  },
  {
   "cell_type": "markdown",
   "metadata": {},
   "source": [
    "$a=2i-3j+4k,b=i+2j-k,c=3i-j+2k$"
   ]
  },
  {
   "cell_type": "code",
   "execution_count": 40,
   "metadata": {},
   "outputs": [
    {
     "name": "stdout",
     "output_type": "stream",
     "text": [
      "a.(bxc)=-7.0000,det([a,b,c])=-7.0000\n"
     ]
    }
   ],
   "source": [
    "a=np.array([2,-3,4])\n",
    "b=np.array([1,2,-1])\n",
    "c=np.array([3,-1,2])\n",
    "\n",
    "bxc=np.cross(b,c)\n",
    "abxc=a.dot(bxc) # symbolic dot product\n",
    "abc=np.array([a,b,c]) # matrix from a,b,c\n",
    "det_abc=la.det(abc)\n",
    "print(\"a.(bxc)=%0.4f,det([a,b,c])=%0.4f\"%(abxc,det_abc))"
   ]
  },
  {
   "cell_type": "markdown",
   "metadata": {},
   "source": [
    "$f(A)=3-2A^2-A^3-5A^4+A^6$"
   ]
  },
  {
   "cell_type": "code",
   "execution_count": 41,
   "metadata": {},
   "outputs": [
    {
     "name": "stdout",
     "output_type": "stream",
     "text": [
      "Result=\n",
      "[[-2.00000000e+00 -1.41421356e+00]\n",
      " [ 1.41421356e+00  3.99680289e-15]]\n"
     ]
    }
   ],
   "source": [
    "# function of matrix\n",
    "coef=[3,0,-2,-1,-5,0,1] # co-efficient array\n",
    "# Using numpy.array()\n",
    "a=np.array([[1,2**0.5],[-2**0.5,-1]])\n",
    "i=np.eye(2)\n",
    "sa=np.zeros(2)\n",
    "ta=i\n",
    "\n",
    "for k in range(len(coef)):\n",
    "    ta=ta.dot(a) # symbolicmatrix power in iterative way\n",
    "    sa=sa+coef[k]*ta # symbolic matrix operation\n",
    "print(\"Result=\")\n",
    "print(sa)"
   ]
  },
  {
   "cell_type": "code",
   "execution_count": 42,
   "metadata": {},
   "outputs": [
    {
     "name": "stdout",
     "output_type": "stream",
     "text": [
      "Result=\n",
      "[[ -4.         -15.82842712]\n",
      " [-10.17157288  -2.        ]]\n"
     ]
    }
   ],
   "source": [
    "# Using numpy.matrix()\n",
    "a=np.array([[1,2**0.5],[-2**0.5,-1]])\n",
    "sa=np.zeros(2)\n",
    "for i in range(len(coef)):\n",
    "    sa=sa+a**i*coef[i] # symblic matrix power directly\n",
    "print(\"Result=\")\n",
    "print(sa)"
   ]
  },
  {
   "cell_type": "code",
   "execution_count": 43,
   "metadata": {},
   "outputs": [
    {
     "name": "stdout",
     "output_type": "stream",
     "text": [
      "usu^-1 for np.array()=\n",
      "[[ 5.00000000e+00 -1.00000000e+00]\n",
      " [-2.00000000e+00 -2.22044605e-16]]\n",
      "usu^-1 for np.matrix()=\n",
      "[[ 5.00000000e+00 -1.00000000e+00]\n",
      " [-2.00000000e+00 -2.22044605e-16]]\n"
     ]
    }
   ],
   "source": [
    "# Symmetric transformation of matrix\n",
    "s=np.array([[1,2],[3,4]])\n",
    "## Using np.array()\n",
    "\n",
    "u=np.array([[1,1],[1,-1]])\n",
    "u=(0.5**0.5)*u\n",
    "u_inv=la.inv(u)\n",
    "usu_inv=(u.dot(s)).dot(u_inv)\n",
    "print('usu^-1 for np.array()=')\n",
    "print(usu_inv)\n",
    "\n",
    "# Using np.matrix()\n",
    "u=np.matrix([[1,1],[1,-1]])\n",
    "u=(0.5**0.5)*u\n",
    "usu_inv=u*s*u**(-1) # symbolic matrix operation\n",
    "print('usu^-1 for np.matrix()=')\n",
    "print(usu_inv)"
   ]
  },
  {
   "cell_type": "code",
   "execution_count": 44,
   "metadata": {},
   "outputs": [
    {
     "name": "stdout",
     "output_type": "stream",
     "text": [
      "Principle moments and principle axes are\n",
      "5.0 [ 0.81649658 -0.40824829 -0.40824829]\n",
      "1.9999999999999996 [-0.57735027 -0.57735027 -0.57735027]\n",
      "5.0 [ 0.47168785 -0.81302061  0.34133277]\n"
     ]
    }
   ],
   "source": [
    "# Principle moments and principal axes of a rigid body\n",
    "i=np.array([[4,-1,-1],[-1,4,-1],[-1,-1,4]])\n",
    "pm,pa=la.eig(i)\n",
    "pa=pa.T\n",
    "print(\"Principle moments and principle axes are\")\n",
    "for i in range(len(pm)):\n",
    "    print(pm[i],pa[i])"
   ]
  }
 ],
 "metadata": {
  "kernelspec": {
   "display_name": "Python 3",
   "language": "python",
   "name": "python3"
  },
  "language_info": {
   "codemirror_mode": {
    "name": "ipython",
    "version": 3
   },
   "file_extension": ".py",
   "mimetype": "text/x-python",
   "name": "python",
   "nbconvert_exporter": "python",
   "pygments_lexer": "ipython3",
   "version": "3.7.3"
  }
 },
 "nbformat": 4,
 "nbformat_minor": 2
}
