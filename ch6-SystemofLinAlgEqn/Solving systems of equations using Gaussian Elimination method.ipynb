{
 "cells": [
  {
   "cell_type": "markdown",
   "metadata": {},
   "source": [
    "## Solving Systems of Linear Algebraic Equations using Gaussian Elimination Method "
   ]
  },
  {
   "cell_type": "code",
   "execution_count": 1,
   "metadata": {},
   "outputs": [],
   "source": [
    "from GaussElim import GaussElim"
   ]
  },
  {
   "cell_type": "code",
   "execution_count": 2,
   "metadata": {},
   "outputs": [
    {
     "name": "stdout",
     "output_type": "stream",
     "text": [
      "coeff= [3.0, -2.0, 4.0]\n"
     ]
    }
   ],
   "source": [
    "xyz=[[1,-1,1,9],[1,1,1,5],[4,2,1,12]]\n",
    "x=GaussElim(xyz)\n",
    "print('coeff=',x)"
   ]
  },
  {
   "cell_type": "code",
   "execution_count": 3,
   "metadata": {},
   "outputs": [
    {
     "name": "stdout",
     "output_type": "stream",
     "text": [
      "coeff= [-1.0, -1.0, 2.0]\n"
     ]
    }
   ],
   "source": [
    "xyz=[[1,1,1,0],[0,1,3,5],[-1,-2,2,7]]\n",
    "x=GaussElim(xyz)\n",
    "print('coeff=',x)"
   ]
  },
  {
   "cell_type": "code",
   "execution_count": 4,
   "metadata": {},
   "outputs": [
    {
     "name": "stdout",
     "output_type": "stream",
     "text": [
      "I1,I2= [4.111111111111112, 3.2777777777777777]\n"
     ]
    }
   ],
   "source": [
    "# Electric mesh 1\n",
    "xyz=[[10,-4,28],[-4,16,36]]\n",
    "x=GaussElim(xyz)\n",
    "print('I1,I2=',x)"
   ]
  },
  {
   "cell_type": "code",
   "execution_count": 6,
   "metadata": {},
   "outputs": [
    {
     "name": "stdout",
     "output_type": "stream",
     "text": [
      "I1,I2,I3= [5.0, -8.0, 1.9999999999999993]\n"
     ]
    }
   ],
   "source": [
    "# Electric mesh 1\n",
    "xyz=[[7,-4,0,67],[-4,15,-6,-152],[0,-6,13,74]]\n",
    "x=GaussElim(xyz)\n",
    "print('I1,I2,I3=',x)"
   ]
  }
 ],
 "metadata": {
  "kernelspec": {
   "display_name": "Python 3",
   "language": "python",
   "name": "python3"
  },
  "language_info": {
   "codemirror_mode": {
    "name": "ipython",
    "version": 3
   },
   "file_extension": ".py",
   "mimetype": "text/x-python",
   "name": "python",
   "nbconvert_exporter": "python",
   "pygments_lexer": "ipython3",
   "version": "3.7.3"
  }
 },
 "nbformat": 4,
 "nbformat_minor": 2
}
