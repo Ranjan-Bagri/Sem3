{
 "cells": [
  {
   "cell_type": "code",
   "execution_count": 1,
   "metadata": {},
   "outputs": [],
   "source": [
    "import numpy as np"
   ]
  },
  {
   "cell_type": "code",
   "execution_count": 2,
   "metadata": {},
   "outputs": [],
   "source": [
    "import scipy.constants as cnts"
   ]
  },
  {
   "cell_type": "code",
   "execution_count": 3,
   "metadata": {},
   "outputs": [
    {
     "data": {
      "text/plain": [
       "3.141592653589793"
      ]
     },
     "execution_count": 3,
     "metadata": {},
     "output_type": "execute_result"
    }
   ],
   "source": [
    "cnts.pi"
   ]
  },
  {
   "cell_type": "code",
   "execution_count": 4,
   "metadata": {},
   "outputs": [
    {
     "data": {
      "text/plain": [
       "6.62607004e-34"
      ]
     },
     "execution_count": 4,
     "metadata": {},
     "output_type": "execute_result"
    }
   ],
   "source": [
    "cnts.h"
   ]
  },
  {
   "cell_type": "code",
   "execution_count": 5,
   "metadata": {},
   "outputs": [
    {
     "data": {
      "text/plain": [
       "6.67408e-11"
      ]
     },
     "execution_count": 5,
     "metadata": {},
     "output_type": "execute_result"
    }
   ],
   "source": [
    "cnts.G"
   ]
  },
  {
   "cell_type": "code",
   "execution_count": 6,
   "metadata": {},
   "outputs": [
    {
     "data": {
      "text/plain": [
       "9.80665"
      ]
     },
     "execution_count": 6,
     "metadata": {},
     "output_type": "execute_result"
    }
   ],
   "source": [
    "cnts.g"
   ]
  },
  {
   "cell_type": "code",
   "execution_count": 7,
   "metadata": {},
   "outputs": [
    {
     "data": {
      "text/plain": [
       "8.3144598"
      ]
     },
     "execution_count": 7,
     "metadata": {},
     "output_type": "execute_result"
    }
   ],
   "source": [
    "cnts.R"
   ]
  },
  {
   "cell_type": "code",
   "execution_count": 8,
   "metadata": {},
   "outputs": [
    {
     "data": {
      "text/plain": [
       "1.38064852e-23"
      ]
     },
     "execution_count": 8,
     "metadata": {},
     "output_type": "execute_result"
    }
   ],
   "source": [
    "cnts.k"
   ]
  },
  {
   "cell_type": "code",
   "execution_count": 9,
   "metadata": {},
   "outputs": [
    {
     "data": {
      "text/plain": [
       "6.022140857e+23"
      ]
     },
     "execution_count": 9,
     "metadata": {},
     "output_type": "execute_result"
    }
   ],
   "source": [
    "cnts.N_A"
   ]
  },
  {
   "cell_type": "code",
   "execution_count": 10,
   "metadata": {},
   "outputs": [
    {
     "data": {
      "text/plain": [
       "5.670367e-08"
      ]
     },
     "execution_count": 10,
     "metadata": {},
     "output_type": "execute_result"
    }
   ],
   "source": [
    "cnts.sigma"
   ]
  },
  {
   "cell_type": "code",
   "execution_count": 11,
   "metadata": {},
   "outputs": [
    {
     "data": {
      "text/plain": [
       "10973731.568508"
      ]
     },
     "execution_count": 11,
     "metadata": {},
     "output_type": "execute_result"
    }
   ],
   "source": [
    "cnts.Rydberg"
   ]
  },
  {
   "cell_type": "code",
   "execution_count": 12,
   "metadata": {},
   "outputs": [
    {
     "data": {
      "text/plain": [
       "9.10938356e-31"
      ]
     },
     "execution_count": 12,
     "metadata": {},
     "output_type": "execute_result"
    }
   ],
   "source": [
    "cnts.m_e"
   ]
  },
  {
   "cell_type": "code",
   "execution_count": 13,
   "metadata": {},
   "outputs": [
    {
     "data": {
      "text/plain": [
       "1.672621898e-27"
      ]
     },
     "execution_count": 13,
     "metadata": {},
     "output_type": "execute_result"
    }
   ],
   "source": [
    "cnts.m_p"
   ]
  },
  {
   "cell_type": "code",
   "execution_count": 14,
   "metadata": {},
   "outputs": [],
   "source": [
    "import scipy.linalg as sla"
   ]
  },
  {
   "cell_type": "code",
   "execution_count": 18,
   "metadata": {},
   "outputs": [
    {
     "data": {
      "text/plain": [
       "array([[ 3,  2, -1],\n",
       "       [ 2, 13, -3],\n",
       "       [ 1,  1, -2]])"
      ]
     },
     "execution_count": 18,
     "metadata": {},
     "output_type": "execute_result"
    }
   ],
   "source": [
    "a=np.array([[3,2,-1],[2,13,-3],[1,1,-2]])\n",
    "a"
   ]
  },
  {
   "cell_type": "code",
   "execution_count": 19,
   "metadata": {},
   "outputs": [
    {
     "data": {
      "text/plain": [
       "-56.0"
      ]
     },
     "execution_count": 19,
     "metadata": {},
     "output_type": "execute_result"
    }
   ],
   "source": [
    "sla.det(a)"
   ]
  },
  {
   "cell_type": "code",
   "execution_count": 20,
   "metadata": {},
   "outputs": [
    {
     "data": {
      "text/plain": [
       "array([[2, 3, 4],\n",
       "       [4, 3, 1],\n",
       "       [1, 2, 4]])"
      ]
     },
     "execution_count": 20,
     "metadata": {},
     "output_type": "execute_result"
    }
   ],
   "source": [
    "b=np.array([[2,3,4],[4,3,1],[1,2,4]])\n",
    "b"
   ]
  },
  {
   "cell_type": "code",
   "execution_count": 21,
   "metadata": {},
   "outputs": [
    {
     "data": {
      "text/plain": [
       "array([[-2. ,  0.8,  1.8],\n",
       "       [ 3. , -0.8, -2.8],\n",
       "       [-1. ,  0.2,  1.2]])"
      ]
     },
     "execution_count": 21,
     "metadata": {},
     "output_type": "execute_result"
    }
   ],
   "source": [
    "sla.inv(b)"
   ]
  },
  {
   "cell_type": "code",
   "execution_count": 25,
   "metadata": {},
   "outputs": [],
   "source": [
    "eigen_values,eigen_vectors=sla.eig(a)"
   ]
  },
  {
   "cell_type": "code",
   "execution_count": 26,
   "metadata": {},
   "outputs": [
    {
     "data": {
      "text/plain": [
       "array([13.14322803+0.j,  2.53652826+0.j, -1.6797563 +0.j])"
      ]
     },
     "execution_count": 26,
     "metadata": {},
     "output_type": "execute_result"
    }
   ],
   "source": [
    "eigen_values"
   ]
  },
  {
   "cell_type": "code",
   "execution_count": 27,
   "metadata": {},
   "outputs": [
    {
     "data": {
      "text/plain": [
       "array([[-0.18557045, -0.97364171,  0.13076205],\n",
       "       [-0.9796138 ,  0.13297209,  0.1813737 ],\n",
       "       [-0.07694424, -0.18531123,  0.97468193]])"
      ]
     },
     "execution_count": 27,
     "metadata": {},
     "output_type": "execute_result"
    }
   ],
   "source": [
    "eigen_vectors"
   ]
  },
  {
   "cell_type": "code",
   "execution_count": 28,
   "metadata": {},
   "outputs": [
    {
     "data": {
      "text/plain": [
       "array([ 7.90848465+0.j, -0.41865085+0.j,  1.5101662 +0.j])"
      ]
     },
     "execution_count": 28,
     "metadata": {},
     "output_type": "execute_result"
    }
   ],
   "source": [
    "sla.eig(b)[0]"
   ]
  },
  {
   "cell_type": "code",
   "execution_count": 29,
   "metadata": {},
   "outputs": [
    {
     "data": {
      "text/plain": [
       "array([[-0.63230819, -0.60401675,  0.15254691],\n",
       "       [-0.6120417 ,  0.76849341, -0.7995133 ],\n",
       "       [-0.47496453, -0.21114365,  0.58095432]])"
      ]
     },
     "execution_count": 29,
     "metadata": {},
     "output_type": "execute_result"
    }
   ],
   "source": [
    "sla.eig(b)[1]"
   ]
  },
  {
   "cell_type": "markdown",
   "metadata": {},
   "source": [
    "**Solve this set equations**\n",
    "\n",
    "$4x-2y+3z=1$\n",
    "\n",
    "$x+3y-4z=-7$\n",
    "\n",
    "$3x+y+2z=5$"
   ]
  },
  {
   "cell_type": "code",
   "execution_count": 30,
   "metadata": {},
   "outputs": [
    {
     "data": {
      "text/plain": [
       "array([-1.,  2.,  3.])"
      ]
     },
     "execution_count": 30,
     "metadata": {},
     "output_type": "execute_result"
    }
   ],
   "source": [
    "c=np.array([[4,-2,3],[1,3,-4],[3,1,2]])\n",
    "d=np.array([1,-7,5])\n",
    "sla.solve(c,d)"
   ]
  },
  {
   "cell_type": "code",
   "execution_count": 31,
   "metadata": {},
   "outputs": [],
   "source": [
    "from scipy.optimize import minimize"
   ]
  },
  {
   "cell_type": "code",
   "execution_count": 32,
   "metadata": {},
   "outputs": [
    {
     "name": "stdout",
     "output_type": "stream",
     "text": [
      "Optimization terminated successfully.\n",
      "         Current function value: 3.310029\n",
      "         Iterations: 46\n",
      "         Function evaluations: 89\n",
      "[x,v]= [0.26486488 0.62505913]\n"
     ]
    }
   ],
   "source": [
    "def fnc(pr):\n",
    "    x,v=pr[0],pr[1]\n",
    "    fn=(x**2+1)**0.5/v+((2-x)**2+2**2)**0.5*v\n",
    "    return fn\n",
    "pr=[1.0,1.0]\n",
    "res=minimize(fnc,pr,method='Nelder-Mead',options={'xtol':1e-5,'disp':True})\n",
    "print('[x,v]=',res.x)"
   ]
  },
  {
   "cell_type": "markdown",
   "metadata": {},
   "source": [
    "$f(x_0,x_1,\\cdots ,x_{n-1})=\\sum_{i=0}^{n-2} 100(x_{i+1}-x_i^2)^2+(1-x_i)^2$"
   ]
  },
  {
   "cell_type": "code",
   "execution_count": 36,
   "metadata": {
    "collapsed": true
   },
   "outputs": [
    {
     "name": "stdout",
     "output_type": "stream",
     "text": [
      "Optimization terminated successfully.\n",
      "         Current function value: 0.000000\n",
      "         Iterations: 690\n",
      "         Function evaluations: 1083\n",
      "Optimized parameters array [1.         1.         1.         1.         1.         0.99999999]\n"
     ]
    }
   ],
   "source": [
    "def rosen(x):\n",
    "    n=len(x)\n",
    "    ros=0\n",
    "    for i in range(n-1):\n",
    "        term1=(x[i+1]-x[i]**2)**2\n",
    "        term2=(1-x[i])**2\n",
    "        ros+=100*term1+term2\n",
    "    return ros\n",
    "\n",
    "x=np.array([1.3,0.7,0.8,1.9,3.2,0.9]) # arbitrary initial choice\n",
    "res=minimize(rosen,x,method='Nelder-Mead',options={'xtol':1e-8,'disp':True})\n",
    "print('Optimized parameters array',res.x)"
   ]
  },
  {
   "cell_type": "markdown",
   "metadata": {},
   "source": [
    "$f(a,x)=a_0x^{a_1}e^{a_2x}$\n",
    "\n",
    "$\\chi^2(a_0,a_1,a_2)=\\sum_{i=0}^{n-1}(f(x_i^2,a_0,a_1,a_2)-y_i)^2$"
   ]
  },
  {
   "cell_type": "code",
   "execution_count": 52,
   "metadata": {},
   "outputs": [
    {
     "name": "stdout",
     "output_type": "stream",
     "text": [
      "Optimization terminated successfully.\n",
      "         Current function value: 0.000000\n",
      "         Iterations: 83\n",
      "         Function evaluations: 159\n",
      "fitting parameters: [ 1.57257142  1.22156543 -0.66653395]\n"
     ]
    },
    {
     "data": {
      "image/png": "[encoded data removed]",
      "text/plain": [
       "<Figure size 432x288 with 1 Axes>"
      ]
     },
     "metadata": {
      "needs_background": "light"
     },
     "output_type": "display_data"
    }
   ],
   "source": [
    "import matplotlib.pyplot as plt\n",
    "\n",
    "def fnc(x,a):\n",
    "    return a[0]*x**a[1]*np.exp(a[2]*x)\n",
    "\n",
    "def fit(a,f,x,fx): #chi^2\n",
    "    chi2=0\n",
    "    for i in range(len(x)):\n",
    "        fx_y2=(f(x[i],a)-fx[i])**2\n",
    "        chi2=fx_y2\n",
    "    return chi2\n",
    "\n",
    "x,fx=[],[]\n",
    "fr=open('fitData.prn','r')\n",
    "while True:\n",
    "    line=fr.readline()\n",
    "    if not line:\n",
    "        break\n",
    "    x.append(float(line.split()[0]))\n",
    "    fx.append(float(line.split()[1]))\n",
    "fr.close()\n",
    "\n",
    "a=[1,1,1] # initial values of fitting parameters\n",
    "res=minimize(fit,a,args=(fnc,x,fx),method='Nelder-Mead',options={'xtol':1e-5,'adaptive':True,'disp':True})\n",
    "a=res.x\n",
    "print('fitting parameters:',a)\n",
    "x=np.asarray(x)\n",
    "fx=np.asarray(fx)\n",
    "xx=np.arange(x[0],x[len(x)-1],0.01)\n",
    "y=fnc(xx,a)\n",
    "plt.scatter(x,fx) # plot the data\n",
    "plt.plot(xx,y) #plot the fit\n",
    "plt.show()\n"
   ]
  },
  {
   "cell_type": "code",
   "execution_count": null,
   "metadata": {},
   "outputs": [],
   "source": []
  }
 ],
 "metadata": {
  "kernelspec": {
   "display_name": "Python 3",
   "language": "python",
   "name": "python3"
  },
  "language_info": {
   "codemirror_mode": {
    "name": "ipython",
    "version": 3
   },
   "file_extension": ".py",
   "mimetype": "text/x-python",
   "name": "python",
   "nbconvert_exporter": "python",
   "pygments_lexer": "ipython3",
   "version": "3.7.3"
  }
 },
 "nbformat": 4,
 "nbformat_minor": 2
}
